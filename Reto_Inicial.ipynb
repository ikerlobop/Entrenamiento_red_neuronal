{
  "nbformat": 4,
  "nbformat_minor": 0,
  "metadata": {
    "colab": {
      "provenance": []
    },
    "kernelspec": {
      "name": "python3",
      "display_name": "Python 3"
    },
    "language_info": {
      "name": "python"
    }
  },
  "cells": [
    {
      "cell_type": "markdown",
      "source": [
        "## Curso especialización Inteligencia Artificial y Big Data\n",
        "## Ejercicio 1: Reto inicial\n",
        "\n",
        "Objetivo: entrenar una red neuronal para reconocer dígitos manuscritos.\n",
        "\n",
        "Datos de partida: utilizaremos el [dataset MNIST, recopilado y compartido por Yann LeCun](http://yann.lecun.com/exdb/mnist/) y que podemos cargar desde la propia librería de Keras.\n",
        "# Nueva sección\n",
        "\n",
        "![mnist-3.0.1.png](data:image/png;base64,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)\n"
      ],
      "metadata": {
        "id": "mG2ze-xlKETk"
      }
    },
    {
      "cell_type": "code",
      "source": [],
      "metadata": {
        "id": "707II_XiyOhi"
      },
      "execution_count": null,
      "outputs": []
    },
    {
      "cell_type": "markdown",
      "source": [
        "### 1. Carga el dataset MNIST de Keras\n",
        "\n",
        "Empezamos por importar el dataset desde la librería Keras y cargarlo con el método load_data()\n",
        "\n",
        "```\n",
        "from keras.datasets import mnist\n",
        "\n",
        "(train_images, train_labels), (test_images, test_labels) = mnist.load_data()\n",
        "```\n",
        "\n"
      ],
      "metadata": {
        "id": "Wptf6-XVOFBZ"
      }
    },
    {
      "cell_type": "code",
      "source": [
        "# Escribe aquí el código de importación\n",
        "from keras.datasets import mnist\n",
        "\n",
        "\n",
        "(train_images, train_labels), (test_images, test_labels) =mnist.load_data()\n"
      ],
      "metadata": {
        "id": "N-KYTabPkfPh",
        "colab": {
          "base_uri": "https://localhost:8080/"
        },
        "outputId": "5384ca66-54cf-4de5-b79a-5497fa2611f1"
      },
      "execution_count": null,
      "outputs": [
        {
          "output_type": "stream",
          "name": "stdout",
          "text": [
            "Downloading data from https://storage.googleapis.com/tensorflow/tf-keras-datasets/mnist.npz\n",
            "11493376/11490434 [==============================] - 0s 0us/step\n",
            "11501568/11490434 [==============================] - 0s 0us/step\n"
          ]
        }
      ]
    },
    {
      "cell_type": "markdown",
      "source": [
        "### 2. Construcción del modelo\n",
        "\n",
        "Importamos los módulos para crear un modelo y para utilizar la arquitectura por capas típica del deep learning. \n",
        "Creamos el objeto network, que será nuestro modelo de la clase Sequential(), que es la que admite varias capas de profundidad.\n",
        "Después, con el método add, iremos apilando capas, en este caso, de la clase Dense, que los las de la arquitectura típica de red neuronal (densely connected). Una primera capa tendrá el atributo de 512 neuronas y función de activación \"relu\" y la siguiente capa tendrá 10 neuronas y función de activación \"softmax\"\n",
        "\n",
        "\n",
        "\n",
        "```\n",
        "from keras import models\n",
        "from keras import layers\n",
        "\n",
        "network = models.Sequential()\n",
        "network.add(layers.Dense(512, activation = 'relu', input_shape = (28*28,)))\n",
        "network.add(layers.Dense(10, activation = 'softmax'))\n",
        "```\n",
        "\n"
      ],
      "metadata": {
        "id": "Wl-D_y4sPQuI"
      }
    },
    {
      "cell_type": "code",
      "source": [
        "# Escribe aquí el código\n",
        "\n",
        "from keras import models\n",
        "from keras import layers \n",
        "\n",
        "network = models.Sequential()\n",
        "network.add(layers.Dense(512, activation = 'relu', input_shape = (28*28,)))\n",
        "network.add(layers.Dense(10, activation = 'softmax'))\n"
      ],
      "metadata": {
        "id": "g8UbsqkHkgTJ"
      },
      "execution_count": null,
      "outputs": []
    },
    {
      "cell_type": "markdown",
      "source": [
        "### 3. Fijar los parámetros del entrenamiento\n",
        "\n",
        "Con el método compile(), indicamos el optimizador a utilizar, el tipo de función de coste (la relacionada con el error entre el resultado del modelo y las etiquetas dadas) y la métrica que queremos ir monitorizando durante el entrenamiento, que será 'accuracy' (precisión o casos correctamente clasificados).\n",
        "\n",
        "\n",
        "\n",
        "```\n",
        "network.compile(optimizer = 'rmsprop',\n",
        "                loss = 'categorical_crossentropy',\n",
        "                metrics = ['accuracy'])\n",
        "```\n",
        "\n"
      ],
      "metadata": {
        "id": "f6Hx0hkcXqVe"
      }
    },
    {
      "cell_type": "code",
      "source": [
        "# Escribe aquí el código\n",
        "\n",
        "network.compile(optimizer = 'rmsprop',\n",
        "                loss = 'categorical_crossentropy',\n",
        "                metrics = ['accuracy'])"
      ],
      "metadata": {
        "id": "gkYjGt-HkhyQ"
      },
      "execution_count": null,
      "outputs": []
    },
    {
      "cell_type": "markdown",
      "source": [
        "### 4. Preparando las imágenes y las etiquetas\n",
        "\n",
        "Antes de pasar al entrenamiento, necesitamos hacer algunos ajustes. \n",
        "Por un lado, tenemos que cambiar las dimensiones del array que entrará en el modelo, pasando a forma vector. Por otro, adimensionalizamos los valores de instensidad de los pixeles de las imágenes, para que estén entre 0 y 1 (antes estaban entre 0 y 255) y los convertimos en tipo float32.\n",
        "\n",
        "\n",
        "\n",
        "```\n",
        "train_images = train_images.reshape((60000, 28*28))\n",
        "train_images = train_images.astype('float32')/255\n",
        "\n",
        "test_images = test_images.reshape((10000, 28*28))\n",
        "test_images = test_images.astype('float32')/255\n",
        "```\n",
        "Tambien va a ser necesario pasar las etiquetas a tipo \"categórico\"\n",
        "\n",
        "\n",
        "\n",
        "```\n",
        "from tensorflow.keras.utils import to_categorical\n",
        "\n",
        "train_labels = to_categorical(train_labels)\n",
        "test_labels = to_categorical(test_labels)\n",
        "```\n",
        "\n",
        "\n"
      ],
      "metadata": {
        "id": "lURH8Ng1ZRxv"
      }
    },
    {
      "cell_type": "code",
      "source": [
        "# Escribe aquí el código\n",
        "\n",
        "train_images = train_images.reshape((60000, 28*28))\n",
        "train_images = train_images.astype('float32')/255\n",
        "\n",
        "test_images = test_images.reshape((10000, 28*28))\n",
        "test_images = test_images.astype('float32')/255\n",
        "\n"
      ],
      "metadata": {
        "id": "5YmYl6ogbdKN"
      },
      "execution_count": null,
      "outputs": []
    },
    {
      "cell_type": "code",
      "source": [
        "from tensorflow.keras.utils import to_categorical\n",
        "\n",
        "train_labels = to_categorical(train_labels)\n",
        "test_labels = to_categorical(test_labels)"
      ],
      "metadata": {
        "id": "2VB6W34fRpsv"
      },
      "execution_count": null,
      "outputs": []
    },
    {
      "cell_type": "markdown",
      "source": [
        "### 5. Entrenamiento del modelo\n",
        "\n",
        "Llegamos al paso culminante: el entrenamiento del modelo. Se hace utilizando el método fit(), con los parámetros imprescindibles del conjunto de datos de entrada, el número de iteraciones de cálculo, y el tamaño del lote de datos a utilizar en cada iteración.\n",
        "\n",
        "\n",
        "\n",
        "```\n",
        "network.fit(train_images, train_labels, epochs = 5, batch_size= 128)\n",
        "```\n",
        "\n"
      ],
      "metadata": {
        "id": "8ABn93k5bpaB"
      }
    },
    {
      "cell_type": "code",
      "source": [
        "# Escribe aquí el código\n",
        "\n",
        "network.fit(train_images, train_labels, epochs = 5, batch_size = 128)"
      ],
      "metadata": {
        "id": "hwm9bmIPcNvo",
        "colab": {
          "base_uri": "https://localhost:8080/"
        },
        "outputId": "a771c6f8-2822-406f-a21c-823a11a060f1"
      },
      "execution_count": null,
      "outputs": [
        {
          "output_type": "stream",
          "name": "stdout",
          "text": [
            "Epoch 1/5\n",
            "469/469 [==============================] - 5s 11ms/step - loss: 0.0284 - accuracy: 0.9915\n",
            "Epoch 2/5\n",
            "469/469 [==============================] - 5s 11ms/step - loss: 0.0217 - accuracy: 0.9935\n",
            "Epoch 3/5\n",
            "469/469 [==============================] - 5s 11ms/step - loss: 0.0171 - accuracy: 0.9952\n",
            "Epoch 4/5\n",
            "469/469 [==============================] - 5s 11ms/step - loss: 0.0128 - accuracy: 0.9965\n",
            "Epoch 5/5\n",
            "469/469 [==============================] - 5s 11ms/step - loss: 0.0099 - accuracy: 0.9973\n"
          ]
        },
        {
          "output_type": "execute_result",
          "data": {
            "text/plain": [
              "<keras.callbacks.History at 0x7f0fb9417310>"
            ]
          },
          "metadata": {},
          "execution_count": 9
        }
      ]
    },
    {
      "cell_type": "markdown",
      "source": [
        "### 6. Evaluación del modelo entrenado\n",
        "\n",
        "Ahora probamos el modelo entrenado utilizando el método evaluate() y los datos de test.\n",
        "\n",
        "\n",
        "\n",
        "```\n",
        "test_loss, test_acc = network.evaluate(test_images, test_labels)\n",
        "print(\"test_acc: \", test_acc)\n",
        "```\n",
        "\n"
      ],
      "metadata": {
        "id": "6hA7rKINCChO"
      }
    },
    {
      "cell_type": "code",
      "source": [
        "# Escribe aquí el código:\n",
        "\n",
        "test_loss,test_acc = network.evaluate(test_images, test_labels)\n",
        "print(\"test_acc: \", test_acc)"
      ],
      "metadata": {
        "id": "S7ZI1jKxC7Ti",
        "colab": {
          "base_uri": "https://localhost:8080/"
        },
        "outputId": "077606c4-b475-4fa0-f997-ce6a99cb4037"
      },
      "execution_count": null,
      "outputs": [
        {
          "output_type": "stream",
          "name": "stdout",
          "text": [
            "313/313 [==============================] - 1s 3ms/step - loss: 0.0714 - accuracy: 0.9827\n",
            "test_acc:  0.982699990272522\n"
          ]
        }
      ]
    },
    {
      "cell_type": "code",
      "source": [],
      "metadata": {
        "id": "LF4OD9IdTdID"
      },
      "execution_count": null,
      "outputs": []
    }
  ]
}